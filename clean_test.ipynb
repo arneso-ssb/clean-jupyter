{
 "cells": [
  {
   "cell_type": "code",
   "execution_count": null,
   "metadata": {},
   "outputs": [],
   "source": [
    "import pandas as pd\n",
    "import os\n",
    "import pathlib\n",
    "\n",
    "# Detect if running on Dapla and set workin directory accordingly\n",
    "if os.environ.get(\"LOCAL_USER_PATH\") is not None:\n",
    "    print(\"Running on Dapla\")\n",
    "    repo_dir = pathlib.Path(\"/home/jovyan/clean-jupyter\")\n",
    "    os.chdir(repo_dir)\n",
    "else:\n",
    "    print(\"Not running on Dapla\")\n",
    "\n",
    "\n",
    "df = pd.read_csv('2021-04-02.Tilfeller-etter-sykdom-fordelt-paa-geografi-2021-Totalt.csv', sep = ';', skiprows = 1)\n",
    "new_column_names = {'Unnamed: 0': 'kommune',\n",
    "                    'Koronavirus med utbruddspotensial, Mars': 'Mars',\n",
    "                    'Koronavirus med utbruddspotensial, Januar': 'Januar',\n",
    "                    'Koronavirus med utbruddspotensial, Februar': 'Februar'}\n",
    "df.rename(columns = new_column_names, inplace = True)\n",
    "df.head()"
   ]
  }
 ],
 "metadata": {
  "language_info": {
   "codemirror_mode": {
    "name": "ipython"
   },
   "file_extension": ".py",
   "mimetype": "text/x-python",
   "name": "python",
   "nbconvert_exporter": "python"
  }
 },
 "nbformat": 4,
 "nbformat_minor": 0
}
