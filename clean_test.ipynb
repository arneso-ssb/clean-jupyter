{
 "cells": [
  {
   "cell_type": "code",
   "execution_count": null,
   "metadata": {},
   "outputs": [],
   "source": [
    "import pandas as pd\n",
    "\n",
    "df = pd.read_csv('2021-04-02.Tilfeller-etter-sykdom-fordelt-paa-geografi-2021-Totalt.csv', sep = ';', skiprows = 1)\n",
    "new_column_names = {'Unnamed: 0': 'kommune',\n",
    "                    'Koronavirus med utbruddspotensial, Mars': 'Mars9',\n",
    "                    'Koronavirus med utbruddspotensial, Januar': 'Januar',\n",
    "                    'Koronavirus med utbruddspotensial, Februar': 'Februar'}\n",
    "df.rename(columns = new_column_names, inplace = True)\n",
    "df.head()"
   ]
  },
  {
   "cell_type": "code",
   "execution_count": null,
   "metadata": {},
   "outputs": [],
   "source": []
  }
 ],
 "metadata": {
  "language_info": {
   "codemirror_mode": {
    "name": "ipython",
    "version": 2
   },
   "file_extension": ".py",
   "mimetype": "text/x-python",
   "name": "python",
   "nbconvert_exporter": "python",
   "pygments_lexer": "ipython2",
   "version": "2.7.6"
  }
 },
 "nbformat": 4,
 "nbformat_minor": 0
}
